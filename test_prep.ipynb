{
 "cells": [
  {
   "cell_type": "markdown",
   "metadata": {},
   "source": [
    "# Chapter 1: Arrays and Strings"
   ]
  },
  {
   "cell_type": "code",
   "execution_count": 77,
   "metadata": {},
   "outputs": [
    {
     "name": "stdout",
     "output_type": "stream",
     "text": [
      "(0, 1)\n"
     ]
    }
   ],
   "source": [
    "### Two Sum ###\n",
    "def twoSum(nums, target):\n",
    "    \"\"\"\n",
    "    :type nums: List[int]\n",
    "    :type target: int\n",
    "    :rtype: List[int]\n",
    "    \"\"\"\n",
    "    d = {}\n",
    "    for i in range(len(nums)):\n",
    "        if target - nums[i] in d:\n",
    "            return (d[target - nums[i]], i)\n",
    "        d[nums[i]] = i\n",
    "    return None\n",
    "nums = [2, 7, 11, 15]\n",
    "target = 9\n",
    "print(twoSum(nums, target))"
   ]
  },
  {
   "cell_type": "code",
   "execution_count": 9,
   "metadata": {},
   "outputs": [
    {
     "name": "stdout",
     "output_type": "stream",
     "text": [
      "False\n",
      "False\n",
      "True\n",
      "True\n",
      "False\n",
      "True\n",
      "True\n"
     ]
    }
   ],
   "source": [
    "### Is Unique ###\n",
    "# Description: Implement an algorithm to determine if a string has all unique characters.\n",
    "# What if you cannot use additional datastructures\n",
    "def is_unique(s):\n",
    "    return len(s.upper()) == len(list(set(s.upper())))\n",
    "tests = [\"AAA\", \"ABCD\", \"dog\", \"BaAt\", \" \", \"\"]\n",
    "for test in tests:\n",
    "    print(is_unique(test))"
   ]
  },
  {
   "cell_type": "code",
   "execution_count": 20,
   "metadata": {},
   "outputs": [
    {
     "data": {
      "text/plain": [
       "True"
      ]
     },
     "execution_count": 20,
     "metadata": {},
     "output_type": "execute_result"
    }
   ],
   "source": [
    "### Check Permuatations ###\n",
    "# Description: Given two strings check if one sting is a permutation of the other.\n",
    "# O(n log n)\n",
    "def check_perm(s1, s2):\n",
    "    #if s1 or s2 == None:\n",
    "        #return False\n",
    "    return ''.join(sorted(s1.upper())) == ''.join(sorted(s2.upper()))\n",
    "check_perm('abac', 'abca')"
   ]
  },
  {
   "cell_type": "code",
   "execution_count": 38,
   "metadata": {},
   "outputs": [
    {
     "data": {
      "text/plain": [
       "'Mr%20John%20Smith'"
      ]
     },
     "execution_count": 38,
     "metadata": {},
     "output_type": "execute_result"
    }
   ],
   "source": [
    "### URLify ###\n",
    "# Description: Replace all spaces in a string with '%20'.\n",
    "## Solution is valid but can be more space effecient and doesnt use all the provided information and not in place\n",
    "# Missing input info\n",
    "import queue\n",
    "def urlify(s, count):\n",
    "    q = queue.Queue()\n",
    "    ret = ''\n",
    "    for i in s:\n",
    "        if i == ' ':\n",
    "            q.put('%20')\n",
    "        else:\n",
    "            q.put(i)\n",
    "    while not q.empty():\n",
    "        popped = q.get()\n",
    "        ret += popped\n",
    "    return ret\n",
    "urlify('Mr John Smith', 13)"
   ]
  },
  {
   "cell_type": "code",
   "execution_count": 76,
   "metadata": {},
   "outputs": [
    {
     "data": {
      "text/plain": [
       "True"
      ]
     },
     "execution_count": 76,
     "metadata": {},
     "output_type": "execute_result"
    }
   ],
   "source": [
    "## Palendrome Permutation ##\n",
    "## Characteristics of palendrom:\n",
    "# Max contains one letter of odd count\n",
    "def palendrome_perm(s):\n",
    "    d = {}\n",
    "    flag = 0\n",
    "    for i in s.replace(' ',''):\n",
    "        if i not in d:\n",
    "            d[i] = 1\n",
    "        else:\n",
    "            d[i] += 1\n",
    "    for k in d:\n",
    "        if flag > 1:\n",
    "            return False\n",
    "        if d[k] % 2 != 0:\n",
    "            flag += 1\n",
    "    return True\n",
    "palendrome_perm('carerac')"
   ]
  },
  {
   "cell_type": "code",
   "execution_count": null,
   "metadata": {
    "collapsed": true
   },
   "outputs": [],
   "source": [
    "# One Away #\n",
    "def one_away(s1,s2):\n",
    "# Come back"
   ]
  },
  {
   "cell_type": "code",
   "execution_count": 16,
   "metadata": {},
   "outputs": [
    {
     "data": {
      "text/plain": [
       "'a2b1c5a3'"
      ]
     },
     "execution_count": 16,
     "metadata": {},
     "output_type": "execute_result"
    }
   ],
   "source": [
    "# String Compression #\n",
    "def string_compress(s):\n",
    "    d = {}\n",
    "    string = []\n",
    "    counter = 0\n",
    "    for i in range(len(s)):\n",
    "        if i > 0 and s[i] != s[i - 1]:\n",
    "            string.append(s[i - 1]+str(counter))\n",
    "            counter = 0\n",
    "        counter += 1\n",
    "    string.append(s[-1]+str(counter))\n",
    "    return min(s, ''.join(string), key=len)\n",
    "string_compress(\"aabcccccaaa\")"
   ]
  },
  {
   "cell_type": "code",
   "execution_count": 27,
   "metadata": {},
   "outputs": [
    {
     "data": {
      "text/plain": [
       "[[7, 4, 1], [8, 5, 2], [9, 6, 3]]"
      ]
     },
     "execution_count": 27,
     "metadata": {},
     "output_type": "execute_result"
    }
   ],
   "source": [
    "# Rotate Matrix #\n",
    "def rotate_matrix(W):\n",
    "    ret = []\n",
    "    for j in range(len(W)):\n",
    "        r = []\n",
    "        for i in range(len(W), 0, -1):\n",
    "            r.append(W[i - 1][j])\n",
    "        ret.append(r)\n",
    "    return ret\n",
    "rotate_matrix([\n",
    "    [1,2],\n",
    "    [3,4]\n",
    "])\n",
    "rotate_matrix([\n",
    "    [1,2,3],\n",
    "    [4,5,6],\n",
    "    [7,8,9]\n",
    "])"
   ]
  },
  {
   "cell_type": "code",
   "execution_count": null,
   "metadata": {
    "collapsed": true
   },
   "outputs": [],
   "source": []
  }
 ],
 "metadata": {
  "kernelspec": {
   "display_name": "Python 3",
   "language": "python",
   "name": "python3"
  },
  "language_info": {
   "codemirror_mode": {
    "name": "ipython",
    "version": 3
   },
   "file_extension": ".py",
   "mimetype": "text/x-python",
   "name": "python",
   "nbconvert_exporter": "python",
   "pygments_lexer": "ipython3",
   "version": "3.6.2"
  }
 },
 "nbformat": 4,
 "nbformat_minor": 2
}
